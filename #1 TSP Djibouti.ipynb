{
 "cells": [
  {
   "cell_type": "markdown",
   "metadata": {},
   "source": [
    "## Discrete Optimization #1 - Djibouti\n",
    "\n",
    "__[Traveling Salesman Problem](http://www.math.uwaterloo.ca/tsp/world/countries.html)__ - 38 cities (Djibouti)\n",
    "\n",
    "find the shortest path, so you visit all cities without visiting the same twice."
   ]
  },
  {
   "cell_type": "code",
   "execution_count": 212,
   "metadata": {},
   "outputs": [],
   "source": [
    "import tsplib95\n",
    "import numpy as np\n",
    "from timeit import default_timer as timer\n",
    "from scipy.spatial.distance import squareform\n",
    "import random\n",
    "import string\n",
    "from deap import base, creator, tools\n",
    "import matplotlib.pyplot as plt"
   ]
  },
  {
   "cell_type": "code",
   "execution_count": 213,
   "metadata": {},
   "outputs": [],
   "source": [
    "Djibouti = tsplib95.load('dj38.tsp')"
   ]
  },
  {
   "cell_type": "code",
   "execution_count": 214,
   "metadata": {},
   "outputs": [
    {
     "data": {
      "text/plain": [
       "{'name': 'dj38',\n",
       " 'comment': 'requesting data sets without duplications.',\n",
       " 'type': 'TSP',\n",
       " 'dimension': 38,\n",
       " 'edge_weight_type': 'EUC_2D',\n",
       " 'node_coords': {1: [11003.6111, 42102.5],\n",
       "  2: [11108.6111, 42373.8889],\n",
       "  3: [11133.3333, 42885.8333],\n",
       "  4: [11155.8333, 42712.5],\n",
       "  5: [11183.3333, 42933.3333],\n",
       "  6: [11297.5, 42853.3333],\n",
       "  7: [11310.2778, 42929.4444],\n",
       "  8: [11416.6667, 42983.3333],\n",
       "  9: [11423.8889, 43000.2778],\n",
       "  10: [11438.3333, 42057.2222],\n",
       "  11: [11461.1111, 43252.7778],\n",
       "  12: [11485.5556, 43187.2222],\n",
       "  13: [11503.0556, 42855.2778],\n",
       "  14: [11511.3889, 42106.3889],\n",
       "  15: [11522.2222, 42841.9444],\n",
       "  16: [11569.4444, 43136.6667],\n",
       "  17: [11583.3333, 43150.0],\n",
       "  18: [11595.0, 43148.0556],\n",
       "  19: [11600.0, 43150.0],\n",
       "  20: [11690.5556, 42686.6667],\n",
       "  21: [11715.8333, 41836.1111],\n",
       "  22: [11751.1111, 42814.4444],\n",
       "  23: [11770.2778, 42651.9444],\n",
       "  24: [11785.2778, 42884.4444],\n",
       "  25: [11822.7778, 42673.6111],\n",
       "  26: [11846.9444, 42660.5556],\n",
       "  27: [11963.0556, 43290.5556],\n",
       "  28: [11973.0556, 43026.1111],\n",
       "  29: [12058.3333, 42195.5556],\n",
       "  30: [12149.4444, 42477.5],\n",
       "  31: [12286.9444, 43355.5556],\n",
       "  32: [12300.0, 42433.3333],\n",
       "  33: [12355.8333, 43156.3889],\n",
       "  34: [12363.3333, 43189.1667],\n",
       "  35: [12372.7778, 42711.3889],\n",
       "  36: [12386.6667, 43334.7222],\n",
       "  37: [12421.6667, 42895.5556],\n",
       "  38: [12645.0, 42973.3333]}}"
      ]
     },
     "execution_count": 214,
     "metadata": {},
     "output_type": "execute_result"
    }
   ],
   "source": [
    "Djibouti.as_name_dict()"
   ]
  },
  {
   "cell_type": "code",
   "execution_count": 215,
   "metadata": {},
   "outputs": [],
   "source": [
    "def calculate_edge_weights(tsproblem): \n",
    "    N = tsproblem.dimension\n",
    "    edges_list = []\n",
    "    for x in range(1, N+1): \n",
    "        for y in range(x+1, N+1):\n",
    "            current_weight = tsproblem.get_weight(x, y)\n",
    "            edges_list.append(current_weight)\n",
    "\n",
    "    return edges_list"
   ]
  },
  {
   "cell_type": "code",
   "execution_count": 216,
   "metadata": {},
   "outputs": [],
   "source": [
    "def calculate_distance_matrix(tsproblem): \n",
    "    N = tsproblem.dimension\n",
    "    edges_list = []\n",
    "    for x in range(1, N+1): \n",
    "        current_point = []\n",
    "        for y in range(x+1, N+1):\n",
    "            current_weight = tsproblem.get_weight(x, y)\n",
    "            current_point.append(current_weight)\n",
    "        edges_list.append(current_point)\n",
    "            \n",
    "    edges = squareform(np.hstack(edges_list)) # complete distances matrix\n",
    "    return edges"
   ]
  },
  {
   "cell_type": "code",
   "execution_count": 217,
   "metadata": {},
   "outputs": [
    {
     "data": {
      "text/plain": [
       "array([[   0.,  291.,  794., ..., 1852., 1625., 1858.],\n",
       "       [ 291.,    0.,  513., ..., 1599., 1413., 1649.],\n",
       "       [ 794.,  513.,    0., ..., 1331., 1288., 1514.],\n",
       "       ...,\n",
       "       [1852., 1599., 1331., ...,    0.,  441.,  444.],\n",
       "       [1625., 1413., 1288., ...,  441.,    0.,  236.],\n",
       "       [1858., 1649., 1514., ...,  444.,  236.,    0.]])"
      ]
     },
     "execution_count": 217,
     "metadata": {},
     "output_type": "execute_result"
    }
   ],
   "source": [
    "calculate_distance_matrix(Djibouti)"
   ]
  },
  {
   "cell_type": "code",
   "execution_count": 218,
   "metadata": {},
   "outputs": [],
   "source": [
    "## DEAP Genetic Algorithm"
   ]
  },
  {
   "cell_type": "code",
   "execution_count": 219,
   "metadata": {},
   "outputs": [],
   "source": [
    "class Runner:\n",
    "    \n",
    "    def __init__(self, toolbox):\n",
    "        self.toolbox = toolbox\n",
    "        self.set_parameters(10, 5, 2)\n",
    "        \n",
    "    def set_parameters(self, population_size, iterations, n_matings):\n",
    "        self.iterations = iterations\n",
    "        self.population_size = population_size\n",
    "        self.n_matings = n_matings\n",
    "        \n",
    "    def set_fitness(self, population):\n",
    "        fitnesses = [ \n",
    "            (individual, self.toolbox.evaluate(individual)) \n",
    "            for individual in population \n",
    "        ]\n",
    "\n",
    "        for individual, fitness in fitnesses:\n",
    "            individual.fitness.values = (fitness,)\n",
    "            \n",
    "    def get_offspring(self, population):\n",
    "        n = len(population)\n",
    "        for _ in range(self.n_matings):\n",
    "            i1, i2 = np.random.choice(range(n), size=2, replace=False)\n",
    "\n",
    "            offspring1, offspring2 = \\\n",
    "                self.toolbox.mate(population[i1], population[i2])\n",
    "            \n",
    "            yield self.toolbox.mutate(offspring1)[0]\n",
    "            yield self.toolbox.mutate(offspring2)[0]\n",
    "    \n",
    "    @staticmethod\n",
    "    def pull_stats(population, iteration=1):\n",
    "        fitnesses = [ individual.fitness.values[0] for individual in population ]\n",
    "        return {\n",
    "            'i': iteration,\n",
    "            'mu': np.mean(fitnesses),\n",
    "            'std': np.std(fitnesses),\n",
    "            'max': np.max(fitnesses),\n",
    "            'min': np.min(fitnesses)\n",
    "        }  \n",
    "    \n",
    "    def Run(self):\n",
    "        population = self.toolbox.population(n=self.population_size)\n",
    "        self.set_fitness(population)\n",
    "        \n",
    "        stats = []\n",
    "        for iteration in list(range(1, self.iterations + 1)):\n",
    "            current_population = list(map(self.toolbox.clone, population))\n",
    "            offspring = list(self.get_offspring(current_population))            \n",
    "            for child in offspring:\n",
    "                current_population.append(child)\n",
    "            \n",
    "            ## reset fitness,\n",
    "            self.set_fitness(current_population)\n",
    "            \n",
    "            population[:] = self.toolbox.select(current_population, len(population))\n",
    "            stats.append(\n",
    "                Runner.pull_stats(population, iteration))\n",
    "            \n",
    "        return stats, population"
   ]
  },
  {
   "cell_type": "code",
   "execution_count": 220,
   "metadata": {},
   "outputs": [],
   "source": [
    "creator.create(\"FitnessMin\", base.Fitness, weights=(-1.0,))\n",
    "creator.create(\"Individual\", list, fitness=creator.FitnessMin)"
   ]
  },
  {
   "cell_type": "code",
   "execution_count": 221,
   "metadata": {},
   "outputs": [],
   "source": [
    "## globals,\n",
    "\n",
    "random.seed(11);\n",
    "np.random.seed(121);\n",
    "\n",
    "\n",
    "INDIVIDUAL_SIZE = NUMBER_OF_CITIES = 38 # N\n",
    "POPULATION_SIZE = 76 # N * 2\n",
    "N_ITERATIONS = 570 # N * 15 (see notes)\n",
    "N_MATINGS = 38 # N (everyone mates)\n",
    "\n",
    "## city indexes\n",
    "cities = list(Djibouti.get_nodes())\n",
    "\n",
    "## distances calculated \n",
    "distances = calculate_distance_matrix(Djibouti)"
   ]
  },
  {
   "cell_type": "code",
   "execution_count": 222,
   "metadata": {},
   "outputs": [],
   "source": [
    "## Min.\n",
    "creator.create(\"FitnessMin\", base.Fitness, weights=(-1.0,))\n",
    "creator.create(\"Individual\", list, fitness=creator.FitnessMin)\n",
    "\n",
    "toolbox = base.Toolbox()\n",
    "\n",
    "## permutation setup for individual,\n",
    "toolbox.register(\"indices\", random.sample, range(INDIVIDUAL_SIZE), INDIVIDUAL_SIZE)\n",
    "toolbox.register(\"individual\", tools.initIterate, creator.Individual, toolbox.indices)\n",
    "\n",
    "## population setup,\n",
    "toolbox.register(\"population\", tools.initRepeat, list, toolbox.individual)"
   ]
  },
  {
   "cell_type": "code",
   "execution_count": 223,
   "metadata": {},
   "outputs": [],
   "source": [
    "def EVALUATE(individual):\n",
    "    summation = 0\n",
    "    start = individual[0]\n",
    "    for i in range(1, len(individual)):\n",
    "        end = individual[i]\n",
    "        summation += distances[start][end]\n",
    "        start = end\n",
    "    return summation\n",
    "\n",
    "toolbox.register(\"evaluate\", EVALUATE)"
   ]
  },
  {
   "cell_type": "code",
   "execution_count": 224,
   "metadata": {},
   "outputs": [],
   "source": [
    "toolbox.register(\"mate\", tools.cxOrdered)\n",
    "toolbox.register(\"mutate\", tools.mutShuffleIndexes, indpb=0.03) # mutation rate higher as we have small population (see notes)\n",
    "toolbox.register(\"select\", tools.selTournament, tournsize=30) # selection tournament size determined by experiment (see notes)"
   ]
  },
  {
   "cell_type": "code",
   "execution_count": 225,
   "metadata": {},
   "outputs": [],
   "source": [
    "start = timer()\n",
    "a = Runner(toolbox)\n",
    "a.set_parameters(POPULATION_SIZE, N_ITERATIONS, N_MATINGS)\n",
    "stats, population = a.Run()\n",
    "end = timer()\n",
    "elapsed_time = end - start"
   ]
  },
  {
   "cell_type": "code",
   "execution_count": 226,
   "metadata": {},
   "outputs": [
    {
     "data": {
      "image/png": "[encoded data removed]",
      "text/plain": [
       "<Figure size 1080x360 with 2 Axes>"
      ]
     },
     "metadata": {
      "needs_background": "light"
     },
     "output_type": "display_data"
    }
   ],
   "source": [
    "## create plots\n",
    "\n",
    "plt.figure(figsize=(15,5))\n",
    "\n",
    "plt.subplot(1,2,1)\n",
    "\n",
    "_ = plt.scatter([ s['min'] for s in stats ], [ s['max'] for s in stats ], marker='.', s=[ (s['std'] + 1) / 20 for s in stats ])\n",
    "\n",
    "_ = plt.title('min by max')\n",
    "_ = plt.xlabel('min')\n",
    "_ = plt.ylabel('max')\n",
    "\n",
    "_ = plt.plot(stats[0]['min'], stats[0]['max'], marker='.', color='yellow')\n",
    "_ = plt.plot(stats[-1]['min'], stats[-1]['max'], marker='.', color='red')\n",
    "\n",
    "\n",
    "plt.subplot(1,2,2)\n",
    "\n",
    "_ = plt.scatter([ s['i'] for s in stats ], [ s['mu'] for s in stats ], marker='.', s=[ (s['std'] + 1) / 20 for s in stats ])\n",
    "\n",
    "_ = plt.title('average fitness by iteration (convergence)')\n",
    "_ = plt.xlabel('iteration')\n",
    "_ = plt.ylabel('average fitness')\n",
    "\n",
    "_ = plt.plot(stats[0]['i'], stats[0]['mu'], marker='.', color='yellow')\n",
    "_ = plt.plot(stats[-1]['i'], stats[-1]['mu'], marker='.', color='red')\n",
    "\n",
    "plt.tight_layout()\n",
    "plt.show()"
   ]
  },
  {
   "cell_type": "code",
   "execution_count": 229,
   "metadata": {},
   "outputs": [
    {
     "name": "stdout",
     "output_type": "stream",
     "text": [
      "RESULTS\n",
      "Best individual (path):  [16, 10, 11, 7, 5, 3, 2, 4, 6, 14, 24, 25, 22, 19, 1, 0, 9, 13, 20, 28, 29, 31, 34, 32, 33, 35, 37, 36, 27, 23, 21, 12, 8, 15, 17, 18, 26, 30]\n",
      "Fitness of the best individual:  8461.0\n",
      "Convergence (top 5 individuals):  [(0, 8461.0), (1, 8461.0), (2, 8461.0), (3, 8461.0), (4, 8461.0)]\n",
      "Computation time (seconds):  6.5139971999997215\n"
     ]
    }
   ],
   "source": [
    "## results \n",
    "\n",
    "fitnesses = sorted([ \n",
    "    (i, toolbox.evaluate(individual)) \n",
    "    for i, individual in enumerate(population) \n",
    "], key=lambda x: x[1])\n",
    "best_individual = tools.selBest(population, k=1)[0]\n",
    "\n",
    "print('RESULTS')\n",
    "print('Best individual (path): ', best_individual)\n",
    "print('Fitness of the best individual: ', EVALUATE(best_individual))\n",
    "print('Convergence (top 5 individuals): ', fitnesses[:5])\n",
    "print('Computation time (seconds): ', elapsed_time)"
   ]
  },
  {
   "cell_type": "markdown",
   "metadata": {},
   "source": [
    "## Conclusion \n",
    "\n",
    "*The chosen algorithm*\n",
    "\n",
    "I implemented the Genetic Algorithm for TSP in this case as the algorithm is easy to understand, allowing for more ability to experiment with the parameters than other algorithms. As the population and individual sizes are relatively small, the time cost of the implementation is essentially the same as other algorithms (though it has been noted that Simmulated Annealing is more efficient to solve large TSP problems than GA implementation), which had me prioritize the implementation which would allow for experimentation and parameter selection easily with the DEAP library.\n",
    "\n",
    "*The parameters of the algorithm*\n",
    "\n",
    "- Fitness - each individual is evaluated as the sum of the distances between each city, in the order of the individual's chromosome (see EVALUATE function)\n",
    "- Mate - used __[DEAP cxOrdered](https://deap.readthedocs.io/en/master/api/tools.html#deap.tools.cxOrdered)__, as we cannot drop any cities and the order of the cities matter to get the most from the parent's fitness increases over time. \n",
    "- Mutate - used __[DEAP mutShuffleIndexes](https://deap.readthedocs.io/en/master/api/tools.html#deap.tools.mutShuffleIndexes)__, with probablity 3%. Mutation rate was increased as small population benefits from increased mutation (see Notes). Tournament size was determined to be best at 30, at a small price of increased time cost.\n",
    "\n",
    "*The final results, both solution and fitness, computational time, and convergence curve can be seen above*\n",
    "\n",
    "\n",
    "\n",
    "*The number of function evaluations or stopping criterion*\n",
    "\n",
    "The number of iterations was determined by experimentation (see Notes). For N number of cities, in this case 38, N * 15 iterations gave similar answers to N * 20, but decreased the time cost. At the same time, this was more accurate than the original implementation of N * 10 iterations as it had a smaller result. Hence N * 15 = 570 iterations was selected.\n"
   ]
  },
  {
   "cell_type": "markdown",
   "metadata": {},
   "source": [
    "## Notes \n",
    "\n",
    "__[TSBLIP95](https://tsplib95.readthedocs.io/en/stable/pages/usage.html#rendering-problems)__\n",
    "\n",
    "__[DEAP](https://deap.readthedocs.io/en/master/api/tools.html#deap.tools.mutShuffleIndexes)__\n",
    "\n",
    "__[Genetic Algorithm: The Travelling Salesman Problem via Python, DEAP](https://medium.com/@pasdan/genetic-algorithm-the-travelling-salesman-problem-via-python-deap-f238e0dd1a73)__\n",
    "\n",
    "__[Solving the TSP with GAs](https://notebook.community/40423140/123456/content/notebook/Solving%20the%20TSP%20with%20GAs)__\n",
    "\n",
    "__[Analysis of the impact of parameters values on the Genetic Algorithm for TSP, Conclusion](https://www.researchgate.net/publication/261135110_Analysis_of_the_impact_of_parameters_values_on_the_Genetic_Algorithm_for_TSP)__\n",
    "- More  efforts need  to  be spent  in  finding  *correct  population  sizing  estimates  for particular problems*. \n",
    "- Considering  the effect  of changing  the  initial population size for  fixed mutation rate, we  see that  the *effect of  the mutation is important for small initial populations*, since it contributes  to  promoting  new  solutions  in  the  solution space.\n",
    "Note increased mutation probability form 1% (deafult) to 3% \n",
    "\n",
    "**Iteration tests**\n",
    "\n",
    "For POPULATION_SIZE = 76 (N * 2) and N_MATINGS = 38 (N, everyone mates), mutation rate of 3%, I had the following results: \n",
    "190 (N * 5) = 9534,\n",
    "380 (N * 10) = 8502 (starting point),\n",
    "570 (N * 15) = 8493,\n",
    "780 (N * 20) = 8493,\n",
    "indicating an optimal point of accuracy and speed at N * 15, 570. Additional experiments could be implemented to test further accuracy, with the averages of multiple experiments at the same iteration value to increase accuracy.\n",
    "\n",
    "**Tournament size tests**\n",
    "\n",
    "For POPULATION_SIZE = 76 (N * 2) and N_MATINGS = 38 (N, everyone mates), ITERATIONS = 570, mutation rate of 3%, I had the following results: \n",
    "10 = 9113 (starting point),\n",
    "20 = 9333,\n",
    "30 = 8329.\n",
    "indicating an optimal point at more tournament participants, 30. Note this did increase the time cost of the function, so may need to be reduced for larger problems. \n"
   ]
  },
  {
   "cell_type": "code",
   "execution_count": null,
   "metadata": {},
   "outputs": [],
   "source": []
  }
 ],
 "metadata": {
  "kernelspec": {
   "display_name": "Python 3",
   "language": "python",
   "name": "python3"
  },
  "language_info": {
   "codemirror_mode": {
    "name": "ipython",
    "version": 3
   },
   "file_extension": ".py",
   "mimetype": "text/x-python",
   "name": "python",
   "nbconvert_exporter": "python",
   "pygments_lexer": "ipython3",
   "version": "3.8.3"
  }
 },
 "nbformat": 4,
 "nbformat_minor": 4
}
